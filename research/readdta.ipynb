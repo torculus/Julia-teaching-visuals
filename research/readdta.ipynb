{
 "cells": [
  {
   "cell_type": "code",
   "execution_count": 1,
   "metadata": {},
   "outputs": [],
   "source": [
    "using ReadStat"
   ]
  },
  {
   "cell_type": "code",
   "execution_count": 3,
   "metadata": {},
   "outputs": [
    {
     "ename": "LoadError",
     "evalue": "\u001b[91mError parsing New_Comprehensive_February_05_2018.dta: 22\u001b[39m",
     "output_type": "error",
     "traceback": [
      "\u001b[91mError parsing New_Comprehensive_February_05_2018.dta: 22\u001b[39m",
      "",
      "Stacktrace:",
      " [1] \u001b[1mparse_data_file!\u001b[22m\u001b[22m\u001b[1m(\u001b[22m\u001b[22m::ReadStat.ReadStatDataFrame, ::Ptr{Void}, ::String, ::Type{Val{:dta}}\u001b[1m)\u001b[22m\u001b[22m at \u001b[1m/mnt/juliabox/.julia/v0.6/ReadStat/src/ReadStat.jl:259\u001b[22m\u001b[22m",
      " [2] \u001b[1mread_data_file\u001b[22m\u001b[22m at \u001b[1m/mnt/juliabox/.julia/v0.6/ReadStat/src/ReadStat.jl:229\u001b[22m\u001b[22m [inlined]",
      " [3] \u001b[1mread_dta\u001b[22m\u001b[22m\u001b[1m(\u001b[22m\u001b[22m::String\u001b[1m)\u001b[22m\u001b[22m at \u001b[1m/mnt/juliabox/.julia/v0.6/ReadStat/src/ReadStat.jl:267\u001b[22m\u001b[22m",
      " [4] \u001b[1minclude_string\u001b[22m\u001b[22m\u001b[1m(\u001b[22m\u001b[22m::String, ::String\u001b[1m)\u001b[22m\u001b[22m at \u001b[1m./loading.jl:522\u001b[22m\u001b[22m"
     ]
    }
   ],
   "source": [
    "read_dta(\"standard18.dta\")"
   ]
  },
  {
   "cell_type": "code",
   "execution_count": null,
   "metadata": {},
   "outputs": [],
   "source": []
  }
 ],
 "metadata": {
  "kernelspec": {
   "display_name": "Julia 0.6.2",
   "language": "julia",
   "name": "julia-0.6"
  },
  "language_info": {
   "file_extension": ".jl",
   "mimetype": "application/julia",
   "name": "julia",
   "version": "0.6.2"
  }
 },
 "nbformat": 4,
 "nbformat_minor": 2
}
