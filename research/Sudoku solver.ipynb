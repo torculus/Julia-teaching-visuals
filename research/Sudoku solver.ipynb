{
 "cells": [
  {
   "cell_type": "code",
   "execution_count": 1,
   "metadata": {},
   "outputs": [],
   "source": [
    "using JuMP, Cbc\n",
    "\n",
    "solver = CbcSolver()\n",
    "m = Model(with_optimizer(Cbc.Optimizer));\n",
    "\n",
    "n = nothing;\n",
    "\n",
    "X = [9 5 n n 3 n 2 8 1; # input the sudoku board\n",
    "     3 n n n n 7 n n 6;\n",
    "     6 n n 1 n n n n n;\n",
    "     n 4 n 2 n 8 1 n n;\n",
    "     5 n n n n n n n 8;\n",
    "     n n 8 7 n 3 n 4 n;\n",
    "     n n n n n 2 n n 4;\n",
    "     1 n n 3 n n n n 9;\n",
    "     4 3 5 n 6 n n 7 2]\n",
    "\n",
    "# partition the board into 3x3 subsquares\n",
    "X1 = X[1:3, 1:3]; X4 = X[1:3, 4:6]; X7 = X[1:3, 7:9];\n",
    "X2 = X[4:6, 1:3]; X5 = X[4:6, 4:6]; X8 = X[4:6, 7:9];\n",
    "X3 = X[7:9, 1:3]; X6 = X[7:9, 4:6]; X9 = X[7:9, 7:9];\n",
    "\n",
    "count = 0;\n",
    "for i = 1:9\n",
    "     for j=1:9\n",
    "          if X[i,j] == nothing;\n",
    "               count += 1;\n",
    "          end\n",
    "     end\n",
    "end"
   ]
  },
  {
   "cell_type": "code",
   "execution_count": 2,
   "metadata": {},
   "outputs": [
    {
     "data": {
      "text/plain": [
       "49-element Array{VariableRef,1}:\n",
       " y[1] \n",
       " y[2] \n",
       " y[3] \n",
       " y[4] \n",
       " y[5] \n",
       " y[6] \n",
       " y[7] \n",
       " y[8] \n",
       " y[9] \n",
       " y[10]\n",
       " y[11]\n",
       " y[12]\n",
       " y[13]\n",
       " ⋮    \n",
       " y[38]\n",
       " y[39]\n",
       " y[40]\n",
       " y[41]\n",
       " y[42]\n",
       " y[43]\n",
       " y[44]\n",
       " y[45]\n",
       " y[46]\n",
       " y[47]\n",
       " y[48]\n",
       " y[49]"
      ]
     },
     "execution_count": 2,
     "metadata": {},
     "output_type": "execute_result"
    }
   ],
   "source": [
    "@variable(m, 1 <= y[i=1:count] <= 9)"
   ]
  },
  {
   "cell_type": "code",
   "execution_count": 3,
   "metadata": {},
   "outputs": [
    {
     "ename": "MethodError",
     "evalue": "MethodError: Cannot `convert` an object of type VariableRef to an object of type Int64\nClosest candidates are:\n  convert(::Type{T<:Number}, !Matched::T<:Number) where T<:Number at number.jl:6\n  convert(::Type{T<:Number}, !Matched::Number) where T<:Number at number.jl:7\n  convert(::Type{T<:Integer}, !Matched::Ptr) where T<:Integer at pointer.jl:23\n  ...",
     "output_type": "error",
     "traceback": [
      "MethodError: Cannot `convert` an object of type VariableRef to an object of type Int64\nClosest candidates are:\n  convert(::Type{T<:Number}, !Matched::T<:Number) where T<:Number at number.jl:6\n  convert(::Type{T<:Number}, !Matched::Number) where T<:Number at number.jl:7\n  convert(::Type{T<:Integer}, !Matched::Ptr) where T<:Integer at pointer.jl:23\n  ...",
      "",
      "Stacktrace:",
      " [1] convert(::Type{Union{Nothing, Int64}}, ::VariableRef) at ./some.jl:22",
      " [2] setindex!(::Array{Union{Nothing, Int64},2}, ::VariableRef, ::Int64, ::Int64) at ./array.jl:769",
      " [3] top-level scope at ./In[3]:4"
     ]
    }
   ],
   "source": [
    "k = 1;    # replace the nulls with JuMP's x variables\n",
    "for i=1:9\n",
    "     for j=1:9\n",
    "          if X[i,j] == nothing;\n",
    "               X[i,j] = y[k];\n",
    "               k = k+1;\n",
    "          end\n",
    "     end\n",
    "end\n",
    "\n",
    "X"
   ]
  },
  {
   "cell_type": "code",
   "execution_count": null,
   "metadata": {},
   "outputs": [],
   "source": [
    "@constraint(m, sum(X,1) .== 45*ones(1,9));\n",
    "@constraint(m, sum(X,2) .== 45*ones(9,1));\n",
    "\n",
    "sol = solve(m)\n",
    "\n",
    "if sol == :Infeasible\n",
    "     error(\"No solution found\")\n",
    "end"
   ]
  }
 ],
 "metadata": {
  "@webio": {
   "lastCommId": null,
   "lastKernelId": null
  },
  "kernelspec": {
   "display_name": "Julia 1.1.0",
   "language": "julia",
   "name": "julia-1.1"
  },
  "language_info": {
   "file_extension": ".jl",
   "mimetype": "application/julia",
   "name": "julia",
   "version": "1.1.1"
  }
 },
 "nbformat": 4,
 "nbformat_minor": 2
}
