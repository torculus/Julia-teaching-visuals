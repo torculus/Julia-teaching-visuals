{
 "cells": [
  {
   "cell_type": "code",
   "execution_count": 1,
   "metadata": {
    "scrolled": false
   },
   "outputs": [
    {
     "data": {
      "text/html": [
       "<table class=\"data-frame\"><thead><tr><th></th><th>consumption</th><th>intercept</th><th>income</th><th>price</th><th>temp</th></tr></thead><tbody><tr><th>1</th><td>38.6</td><td>1</td><td>78</td><td>2.7</td><td>41</td></tr><tr><th>2</th><td>37.4</td><td>1</td><td>79</td><td>2.82</td><td>56</td></tr><tr><th>3</th><td>39.3</td><td>1</td><td>81</td><td>2.77</td><td>63</td></tr><tr><th>4</th><td>42.5</td><td>1</td><td>80</td><td>2.8</td><td>68</td></tr><tr><th>5</th><td>40.6</td><td>1</td><td>76</td><td>2.72</td><td>69</td></tr><tr><th>6</th><td>34.4</td><td>1</td><td>78</td><td>2.62</td><td>65</td></tr><tr><th>7</th><td>32.7</td><td>1</td><td>82</td><td>2.75</td><td>61</td></tr><tr><th>8</th><td>28.8</td><td>1</td><td>79</td><td>2.67</td><td>47</td></tr><tr><th>9</th><td>26.9</td><td>1</td><td>76</td><td>2.65</td><td>32</td></tr><tr><th>10</th><td>25.6</td><td>1</td><td>79</td><td>2.77</td><td>24</td></tr><tr><th>11</th><td>28.6</td><td>1</td><td>82</td><td>2.82</td><td>28</td></tr><tr><th>12</th><td>29.8</td><td>1</td><td>85</td><td>2.7</td><td>26</td></tr><tr><th>13</th><td>32.9</td><td>1</td><td>86</td><td>2.72</td><td>32</td></tr><tr><th>14</th><td>31.8</td><td>1</td><td>83</td><td>2.87</td><td>40</td></tr><tr><th>15</th><td>38.1</td><td>1</td><td>84</td><td>2.77</td><td>55</td></tr><tr><th>16</th><td>38.1</td><td>1</td><td>82</td><td>2.87</td><td>63</td></tr><tr><th>17</th><td>47.0</td><td>1</td><td>80</td><td>2.8</td><td>72</td></tr><tr><th>18</th><td>44.3</td><td>1</td><td>78</td><td>2.77</td><td>72</td></tr><tr><th>19</th><td>38.6</td><td>1</td><td>84</td><td>2.77</td><td>67</td></tr><tr><th>20</th><td>34.2</td><td>1</td><td>86</td><td>2.77</td><td>60</td></tr><tr><th>21</th><td>31.9</td><td>1</td><td>85</td><td>2.92</td><td>44</td></tr><tr><th>22</th><td>30.7</td><td>1</td><td>87</td><td>2.87</td><td>40</td></tr><tr><th>23</th><td>28.4</td><td>1</td><td>94</td><td>2.77</td><td>32</td></tr><tr><th>24</th><td>32.6</td><td>1</td><td>92</td><td>2.85</td><td>27</td></tr><tr><th>25</th><td>30.9</td><td>1</td><td>95</td><td>2.82</td><td>28</td></tr><tr><th>26</th><td>35.9</td><td>1</td><td>96</td><td>2.65</td><td>33</td></tr><tr><th>27</th><td>37.6</td><td>1</td><td>94</td><td>2.65</td><td>41</td></tr><tr><th>28</th><td>41.6</td><td>1</td><td>96</td><td>2.65</td><td>52</td></tr><tr><th>29</th><td>43.7</td><td>1</td><td>91</td><td>2.68</td><td>64</td></tr><tr><th>30</th><td>54.8</td><td>1</td><td>90</td><td>2.6</td><td>71</td></tr></tbody></table>"
      ],
      "text/plain": [
       "30×5 DataFrames.DataFrame\n",
       "│ Row │ consumption │ intercept │ income │ price │ temp │\n",
       "├─────┼─────────────┼───────────┼────────┼───────┼──────┤\n",
       "│ 1   │ 38.6        │ 1         │ 78     │ 2.7   │ 41   │\n",
       "│ 2   │ 37.4        │ 1         │ 79     │ 2.82  │ 56   │\n",
       "│ 3   │ 39.3        │ 1         │ 81     │ 2.77  │ 63   │\n",
       "│ 4   │ 42.5        │ 1         │ 80     │ 2.8   │ 68   │\n",
       "│ 5   │ 40.6        │ 1         │ 76     │ 2.72  │ 69   │\n",
       "│ 6   │ 34.4        │ 1         │ 78     │ 2.62  │ 65   │\n",
       "│ 7   │ 32.7        │ 1         │ 82     │ 2.75  │ 61   │\n",
       "│ 8   │ 28.8        │ 1         │ 79     │ 2.67  │ 47   │\n",
       "│ 9   │ 26.9        │ 1         │ 76     │ 2.65  │ 32   │\n",
       "│ 10  │ 25.6        │ 1         │ 79     │ 2.77  │ 24   │\n",
       "│ 11  │ 28.6        │ 1         │ 82     │ 2.82  │ 28   │\n",
       "⋮\n",
       "│ 19  │ 38.6        │ 1         │ 84     │ 2.77  │ 67   │\n",
       "│ 20  │ 34.2        │ 1         │ 86     │ 2.77  │ 60   │\n",
       "│ 21  │ 31.9        │ 1         │ 85     │ 2.92  │ 44   │\n",
       "│ 22  │ 30.7        │ 1         │ 87     │ 2.87  │ 40   │\n",
       "│ 23  │ 28.4        │ 1         │ 94     │ 2.77  │ 32   │\n",
       "│ 24  │ 32.6        │ 1         │ 92     │ 2.85  │ 27   │\n",
       "│ 25  │ 30.9        │ 1         │ 95     │ 2.82  │ 28   │\n",
       "│ 26  │ 35.9        │ 1         │ 96     │ 2.65  │ 33   │\n",
       "│ 27  │ 37.6        │ 1         │ 94     │ 2.65  │ 41   │\n",
       "│ 28  │ 41.6        │ 1         │ 96     │ 2.65  │ 52   │\n",
       "│ 29  │ 43.7        │ 1         │ 91     │ 2.68  │ 64   │\n",
       "│ 30  │ 54.8        │ 1         │ 90     │ 2.6   │ 71   │"
      ]
     },
     "execution_count": 1,
     "metadata": {},
     "output_type": "execute_result"
    }
   ],
   "source": [
    "using DataFrames\n",
    "\n",
    "icecream = readtable(\"icecream.csv\")"
   ]
  },
  {
   "cell_type": "code",
   "execution_count": 2,
   "metadata": {},
   "outputs": [
    {
     "data": {
      "text/plain": [
       "4-element Array{Real,1}:\n",
       "  19.7315  \n",
       "   0.330776\n",
       " -10.4441  \n",
       "   0.345843"
      ]
     },
     "execution_count": 2,
     "metadata": {},
     "output_type": "execute_result"
    }
   ],
   "source": [
    "data = convert(Array, icecream);\n",
    "\n",
    "Y = data[:,1];\n",
    "X = data[:,2:end];\n",
    "\n",
    "betaHat = X'*X\\X'*Y # secret formula for OLS estimates\n",
    "\n",
    "#           [^β0]\n",
    "# betaHat = [^β1]\n",
    "#           [^β2]\n",
    "#           [^β3]"
   ]
  },
  {
   "cell_type": "code",
   "execution_count": 4,
   "metadata": {},
   "outputs": [
    {
     "name": "stdout",
     "output_type": "stream",
     "text": [
      "4.075823033009156e-46 ***"
     ]
    },
    {
     "data": {
      "text/plain": [
       "One sample t-test\n",
       "-----------------\n",
       "Population details:\n",
       "    parameter of interest:   Mean\n",
       "    value under h_0:         0\n",
       "    point estimate:          2.7530000000000006\n",
       "    95% confidence interval: (2.721848761902419, 2.784151238097582)\n",
       "\n",
       "Test summary:\n",
       "    outcome with 95% confidence: reject h_0\n",
       "    two-sided p-value:           8.151646066018312e-46\n",
       "\n",
       "Details:\n",
       "    number of observations:   30\n",
       "    t-statistic:              180.74778238841355\n",
       "    degrees of freedom:       29\n",
       "    empirical standard error: 0.015231168889718427\n"
      ]
     },
     "execution_count": 4,
     "metadata": {},
     "output_type": "execute_result"
    }
   ],
   "source": [
    "using HypothesisTests\n",
    "\n",
    "intercept = X[:,1];\n",
    "income = X[:,2];\n",
    "price = X[:,3];\n",
    "temp = X[:,4];\n",
    "\n",
    "pval = pvalue(OneSampleTTest(price))    # two-sided test\n",
    "pval = pvalue(OneSampleTTest(price), tail=:right);\n",
    "\n",
    "#####################################################################\n",
    "# code it ourselves\n",
    "\n",
    "if pval <= 0.01\n",
    "    print(\"$pval ***\");\n",
    "    \n",
    "elseif pval <= 0.05\n",
    "    print(\"$pval **\");\n",
    "\n",
    "elseif pval <= 0.10\n",
    "    print(\"$pval *\");\n",
    "end\n",
    "\n",
    "#####################################################################\n",
    "# use a builtin function\n",
    "OneSampleTTest(price)"
   ]
  },
  {
   "cell_type": "code",
   "execution_count": null,
   "metadata": {},
   "outputs": [],
   "source": []
  }
 ],
 "metadata": {
  "kernelspec": {
   "display_name": "Julia 0.6.2",
   "language": "julia",
   "name": "julia-0.6"
  },
  "language_info": {
   "file_extension": ".jl",
   "mimetype": "application/julia",
   "name": "julia",
   "version": "0.6.2"
  }
 },
 "nbformat": 4,
 "nbformat_minor": 2
}
