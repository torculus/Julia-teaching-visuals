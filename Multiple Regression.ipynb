{
 "cells": [
  {
   "cell_type": "code",
   "execution_count": 5,
   "metadata": {
    "scrolled": true
   },
   "outputs": [
    {
     "data": {
      "text/plain": [
       "30×5 Array{Float64,2}:\n",
       " 38.6  1.0  78.0  2.7   41.0\n",
       " 37.4  1.0  79.0  2.82  56.0\n",
       " 39.3  1.0  81.0  2.77  63.0\n",
       " 42.5  1.0  80.0  2.8   68.0\n",
       " 40.6  1.0  76.0  2.72  69.0\n",
       " 34.4  1.0  78.0  2.62  65.0\n",
       " 32.7  1.0  82.0  2.75  61.0\n",
       " 28.8  1.0  79.0  2.67  47.0\n",
       " 26.9  1.0  76.0  2.65  32.0\n",
       " 25.6  1.0  79.0  2.77  24.0\n",
       " 28.6  1.0  82.0  2.82  28.0\n",
       " 29.8  1.0  85.0  2.7   26.0\n",
       " 32.9  1.0  86.0  2.72  32.0\n",
       "  ⋮                         \n",
       " 38.6  1.0  84.0  2.77  67.0\n",
       " 34.2  1.0  86.0  2.77  60.0\n",
       " 31.9  1.0  85.0  2.92  44.0\n",
       " 30.7  1.0  87.0  2.87  40.0\n",
       " 28.4  1.0  94.0  2.77  32.0\n",
       " 32.6  1.0  92.0  2.85  27.0\n",
       " 30.9  1.0  95.0  2.82  28.0\n",
       " 35.9  1.0  96.0  2.65  33.0\n",
       " 37.6  1.0  94.0  2.65  41.0\n",
       " 41.6  1.0  96.0  2.65  52.0\n",
       " 43.7  1.0  91.0  2.68  64.0\n",
       " 54.8  1.0  90.0  2.6   71.0"
      ]
     },
     "execution_count": 5,
     "metadata": {},
     "output_type": "execute_result"
    }
   ],
   "source": [
    "using CSV, GLM, Distributions;\n",
    "\n",
    "icecream = CSV.read(\"icecream.csv\");\n",
    "data = convert(Array{Float64}, icecream)"
   ]
  },
  {
   "cell_type": "code",
   "execution_count": 6,
   "metadata": {},
   "outputs": [
    {
     "ename": "MethodError",
     "evalue": "MethodError: no method matching fit(::Type{GeneralizedLinearModel}, ::Formula, ::Array{Float64,2}, ::Normal{Float64}, ::IdentityLink)\nClosest candidates are:\n  fit(!Matched::Type{StatsBase.Histogram}, ::Any...; kwargs...) at /home/ben/.julia/packages/StatsBase/56Djy/src/hist.jl:319\n  fit(!Matched::StatsBase.StatisticalModel, ::Any...) at /home/ben/.julia/packages/StatsBase/56Djy/src/statmodels.jl:151\n  fit(!Matched::Type{D<:Distribution}, ::Any...) where D<:Distribution at /home/ben/.julia/packages/Distributions/WHjOk/src/genericfit.jl:34\n  ...",
     "output_type": "error",
     "traceback": [
      "MethodError: no method matching fit(::Type{GeneralizedLinearModel}, ::Formula, ::Array{Float64,2}, ::Normal{Float64}, ::IdentityLink)\nClosest candidates are:\n  fit(!Matched::Type{StatsBase.Histogram}, ::Any...; kwargs...) at /home/ben/.julia/packages/StatsBase/56Djy/src/hist.jl:319\n  fit(!Matched::StatsBase.StatisticalModel, ::Any...) at /home/ben/.julia/packages/StatsBase/56Djy/src/statmodels.jl:151\n  fit(!Matched::Type{D<:Distribution}, ::Any...) where D<:Distribution at /home/ben/.julia/packages/Distributions/WHjOk/src/genericfit.jl:34\n  ...",
      "",
      "Stacktrace:",
      " [1] #glm#10(::Base.Iterators.Pairs{Union{},Union{},Tuple{},NamedTuple{(),Tuple{}}}, ::Function, ::Formula, ::Array{Float64,2}, ::Normal{Float64}, ::Vararg{Any,N} where N) at /home/ben/.julia/packages/GLM/0c65q/src/glmfit.jl:326",
      " [2] glm(::Formula, ::Array{Float64,2}, ::Normal{Float64}, ::Vararg{Any,N} where N) at /home/ben/.julia/packages/GLM/0c65q/src/glmfit.jl:326",
      " [3] top-level scope at In[6]:8"
     ]
    }
   ],
   "source": [
    "Y = data[:,1];\n",
    "X = data[:,2:end];\n",
    "\n",
    "intercept = X[:,1];\n",
    "income = X[:,2];\n",
    "price = X[:,3];\n",
    "temp = X[:,4];\n",
    "\n",
    "glm(@formula(Y ~ income + price + temp),\n",
    "        data, Normal(), IdentityLink())"
   ]
  },
  {
   "cell_type": "code",
   "execution_count": null,
   "metadata": {},
   "outputs": [],
   "source": [
    "using DataFrames\n",
    "\n",
    "icecream = readtable(\"icecream.csv\")\n",
    "\n",
    "data = convert(Array, icecream);\n",
    "\n",
    "Y = data[:,1];\n",
    "X = data[:,2:end];\n",
    "\n",
    "betaHat = X'*X\\X'*Y; # secret formula for OLS estimates\n",
    "\n",
    "println(string(\"beta0: \", betaHat[1], '\\n', \"beta1: \", betaHat[2], '\\n', \"beta2: \", betaHat[3], '\\n', \"beta3: \",\n",
    "        betaHat[4]))"
   ]
  },
  {
   "cell_type": "code",
   "execution_count": null,
   "metadata": {},
   "outputs": [],
   "source": [
    "using HypothesisTests\n",
    "\n",
    "intercept = X[:,1];\n",
    "income = X[:,2];\n",
    "price = X[:,3];\n",
    "temp = X[:,4];\n",
    "\n",
    "pval = pvalue(OneSampleTTest(price))    # two-sided test\n",
    "pval = pvalue(OneSampleTTest(price), tail=:right);\n",
    "\n",
    "#####################################################################\n",
    "# code it ourselves\n",
    "\n",
    "if pval <= 0.01\n",
    "    print(\"$pval ***\");\n",
    "    \n",
    "elseif pval <= 0.05\n",
    "    print(\"$pval **\");\n",
    "\n",
    "elseif pval <= 0.10\n",
    "    print(\"$pval *\");\n",
    "end\n",
    "\n",
    "#####################################################################\n",
    "# use a builtin function\n",
    "OneSampleTTest(price)"
   ]
  }
 ],
 "metadata": {
  "@webio": {
   "lastCommId": "786200578a37438e8200778d8fd309c3",
   "lastKernelId": "92db1ae0-924a-4a69-a541-98038bea80ee"
  },
  "kernelspec": {
   "display_name": "Julia 1.0.0",
   "language": "julia",
   "name": "julia-1.0"
  },
  "language_info": {
   "file_extension": ".jl",
   "mimetype": "application/julia",
   "name": "julia",
   "version": "1.0.0"
  }
 },
 "nbformat": 4,
 "nbformat_minor": 2
}
